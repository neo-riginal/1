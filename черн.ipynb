{
 "cells": [
  {
   "cell_type": "code",
   "execution_count": 16,
   "id": "804ecd48-a773-4773-aa6f-df41a9f1c546",
   "metadata": {},
   "outputs": [],
   "source": [
    "import glob\n",
    "import os\n",
    "import pandas as pd\n",
    "import numpy as np\n",
    "import json\n",
    "import docx\n",
    "from bs4 import BeautifulSoup as bs\n",
    "import requests\n",
    "from tqdm.auto import tqdm, trange\n",
    "from pymystem3 import Mystem\n",
    "from nltk.stem.snowball import SnowballStemmer \n",
    "from nltk.tokenize import word_tokenize\n",
    "from nltk.stem import *\n",
    "from nltk.corpus import stopwords\n",
    "import string\n",
    "import re\n",
    "import pyLDAvis\n",
    "import pyLDAvis.lda_model\n",
    "import pymorphy2"
   ]
  },
  {
   "cell_type": "code",
   "execution_count": 18,
   "id": "ba2242f1-5587-4eeb-acd1-95762290cf51",
   "metadata": {},
   "outputs": [],
   "source": [
    "import os\n",
    "import json\n",
    "import pandas as pd\n",
    "from zipfile import ZipFile"
   ]
  },
  {
   "cell_type": "code",
   "execution_count": 23,
   "id": "27346195-5ac3-4c6e-bea4-9c9c632a4ecf",
   "metadata": {},
   "outputs": [],
   "source": [
    "# import os\n",
    "# import glob\n",
    "# import json\n",
    "# import pandas as pd\n",
    "\n",
    "# # это список json файлов\n",
    "# list_json = glob.glob('C:/Users/Admin/Downloads/data/data/*.json')\n",
    "# import pandas as pd\n",
    "# data_list = []\n",
    "# for file in list_json:   \n",
    "#    with open(file, \"r\", encoding = 'utf-8') as f:\n",
    "#        data=pd.read_json(f)\n",
    "#        data_list.append(data)\n",
    "\n",
    "# # конвертируем список DataFrame в один DataFrame\n",
    "# df = pd.concat(data_list, ignore_index=True)\n",
    "# df.head(5)"
   ]
  },
  {
   "cell_type": "code",
   "execution_count": 25,
   "id": "5947647c-1899-4a7c-85bf-11df6b5a7f03",
   "metadata": {},
   "outputs": [],
   "source": [
    "import os\n",
    "import glob\n",
    "import json\n",
    "# это список json файлов\n",
    "list_json = glob.glob('data/*.json')"
   ]
  },
  {
   "cell_type": "code",
   "execution_count": 26,
   "id": "2a9c754e-fbf3-4321-836d-cde9f838720f",
   "metadata": {},
   "outputs": [],
   "source": [
    "import pandas as pd\n",
    "data_list = []\n",
    "for file in list_json:    \n",
    "    with open(file, \"r\", encoding = 'utf-8') as f:\n",
    "        data=pd.read_json(file)"
   ]
  },
  {
   "cell_type": "code",
   "execution_count": 27,
   "id": "596b832e-5aa7-415b-8cba-a97bbcebc56a",
   "metadata": {},
   "outputs": [
    {
     "data": {
      "text/html": [
       "<div>\n",
       "<style scoped>\n",
       "    .dataframe tbody tr th:only-of-type {\n",
       "        vertical-align: middle;\n",
       "    }\n",
       "\n",
       "    .dataframe tbody tr th {\n",
       "        vertical-align: top;\n",
       "    }\n",
       "\n",
       "    .dataframe thead th {\n",
       "        text-align: right;\n",
       "    }\n",
       "</style>\n",
       "<table border=\"1\" class=\"dataframe\">\n",
       "  <thead>\n",
       "    <tr style=\"text-align: right;\">\n",
       "      <th></th>\n",
       "      <th>id</th>\n",
       "      <th>text</th>\n",
       "      <th>title</th>\n",
       "    </tr>\n",
       "  </thead>\n",
       "  <tbody>\n",
       "    <tr>\n",
       "      <th>0</th>\n",
       "      <td>44228062</td>\n",
       "      <td>Reinder Pieter (Reind) van de Riet (22 April 1...</td>\n",
       "      <td>Reinder van de Riet</td>\n",
       "    </tr>\n",
       "    <tr>\n",
       "      <th>1</th>\n",
       "      <td>44228065</td>\n",
       "      <td>The 2014–15 EHF Challenge Cup was the 18th edi...</td>\n",
       "      <td>2014–15 EHF Challenge Cup</td>\n",
       "    </tr>\n",
       "    <tr>\n",
       "      <th>2</th>\n",
       "      <td>44228107</td>\n",
       "      <td>De Haag () is a post mill in Beuningen, Gelder...</td>\n",
       "      <td>De Haag, Beuningen</td>\n",
       "    </tr>\n",
       "    <tr>\n",
       "      <th>3</th>\n",
       "      <td>44228138</td>\n",
       "      <td>Horst-Dieter Kolletschke (born 29 February 195...</td>\n",
       "      <td>Horst-Dieter Kolletschke</td>\n",
       "    </tr>\n",
       "    <tr>\n",
       "      <th>4</th>\n",
       "      <td>44228148</td>\n",
       "      <td>The first terrestrial television broadcast sig...</td>\n",
       "      <td>List of television stations in Nigeria</td>\n",
       "    </tr>\n",
       "  </tbody>\n",
       "</table>\n",
       "</div>"
      ],
      "text/plain": [
       "         id                                               text  \\\n",
       "0  44228062  Reinder Pieter (Reind) van de Riet (22 April 1...   \n",
       "1  44228065  The 2014–15 EHF Challenge Cup was the 18th edi...   \n",
       "2  44228107  De Haag () is a post mill in Beuningen, Gelder...   \n",
       "3  44228138  Horst-Dieter Kolletschke (born 29 February 195...   \n",
       "4  44228148  The first terrestrial television broadcast sig...   \n",
       "\n",
       "                                    title  \n",
       "0                     Reinder van de Riet  \n",
       "1               2014–15 EHF Challenge Cup  \n",
       "2                      De Haag, Beuningen  \n",
       "3                Horst-Dieter Kolletschke  \n",
       "4  List of television stations in Nigeria  "
      ]
     },
     "execution_count": 27,
     "metadata": {},
     "output_type": "execute_result"
    }
   ],
   "source": [
    "data.head(5)"
   ]
  },
  {
   "cell_type": "code",
   "execution_count": 28,
   "id": "ee0b3deb-10b4-47b0-a318-2efb37690a3e",
   "metadata": {},
   "outputs": [],
   "source": [
    "filtered_data = data[data['id'] == 7751062]"
   ]
  },
  {
   "cell_type": "code",
   "execution_count": 31,
   "id": "3c37bd4d-bd7b-4b4f-a3d9-42a228dbe8c6",
   "metadata": {},
   "outputs": [
    {
     "data": {
      "text/plain": [
       "id       0\n",
       "text     0\n",
       "title    0\n",
       "dtype: int64"
      ]
     },
     "execution_count": 31,
     "metadata": {},
     "output_type": "execute_result"
    }
   ],
   "source": [
    "data.isnull().sum()"
   ]
  },
  {
   "cell_type": "code",
   "execution_count": 32,
   "id": "c75ac92b-5bbf-4218-ac5e-e9a9d3423ed2",
   "metadata": {},
   "outputs": [],
   "source": [
    "def remove_tags(text):\n",
    "    # удаление тегов разметки\n",
    "    text = re.sub(r\"<[^>]+>\", \"\", str(text), flags=re.S)\n",
    "    # удаление последовательностей \\r и \\n\n",
    "    text = re.sub(r\"\\r|\\n\", \" \", str(text), flags=re.S)\n",
    "    # удаление последовательностей \\b\n",
    "    text = re.sub(r\"\\b\", \"\", str(text), flags=re.S)\n",
    "    text = re.sub(r\" +\", \" \", str(text), flags=re.S)\n",
    "    text = re.sub(r\"^\\d+$\", \"\", str(text), flags=re.S)\n",
    "    return text\n",
    "\n",
    "def remove_punct(text):\n",
    "    import string\n",
    "    # удаляем пунктуацию и  \n",
    "    # склеиваем символы, приводя слова к нижнему регистру\n",
    "    return ''.join([c for c in text if c not in string.punctuation or c == '-']).lower()\n",
    "\n",
    "def remove_multiple_spaces(text): #Функция удаления пробелов\n",
    "    return re.sub(r'\\s+', ' ', text, flags=re.I)"
   ]
  },
  {
   "cell_type": "code",
   "execution_count": 34,
   "id": "6da247a4-4435-4c39-9c18-57b762076f58",
   "metadata": {},
   "outputs": [
    {
     "name": "stderr",
     "output_type": "stream",
     "text": [
      "[nltk_data] Downloading package stopwords to\n",
      "[nltk_data]     C:\\Users\\Admin\\AppData\\Roaming\\nltk_data...\n",
      "[nltk_data]   Unzipping corpora\\stopwords.zip.\n"
     ]
    },
    {
     "data": {
      "text/plain": [
       "True"
      ]
     },
     "execution_count": 34,
     "metadata": {},
     "output_type": "execute_result"
    }
   ],
   "source": [
    "import nltk\n",
    "nltk.download('stopwords')"
   ]
  },
  {
   "cell_type": "code",
   "execution_count": 36,
   "id": "5ff5cddd-1397-432a-84a4-972cc2498e1c",
   "metadata": {},
   "outputs": [
    {
     "name": "stderr",
     "output_type": "stream",
     "text": [
      "C:\\Users\\Admin\\AppData\\Local\\Programs\\Python\\Python311\\Lib\\site-packages\\tqdm\\auto.py:21: TqdmWarning: IProgress not found. Please update jupyter and ipywidgets. See https://ipywidgets.readthedocs.io/en/stable/user_install.html\n",
      "  from .autonotebook import tqdm as notebook_tqdm\n"
     ]
    }
   ],
   "source": [
    "import string\n",
    "from pymystem3 import Mystem\n",
    "from tqdm.auto import tqdm, trange\n",
    "from nltk.tokenize import word_tokenize\n",
    "from nltk.stem.snowball import SnowballStemmer as snow \n",
    "\n",
    "def remove_punctuation(text): #Функция удаления знаков препинания\n",
    "    return \"\".join([ch if ch not in string.punctuation else ' ' for ch in text])\n",
    "def remove_numbers(text): #Функция удаления чисел\n",
    "    return ''.join([i if not i.isdigit() else ' ' for i in text])\n",
    "def remove_multiple_spaces(text): #Функция удаления пробелов\n",
    "    return re.sub(r'\\s+', ' ', text, flags=re.I)"
   ]
  },
  {
   "cell_type": "code",
   "execution_count": 35,
   "id": "33241179-879b-4ca2-a437-5b986940e121",
   "metadata": {},
   "outputs": [],
   "source": [
    "from nltk.corpus import stopwords\n",
    "russian_stopwords = stopwords.words(\"russian\") #создание списка стоп-слов\n",
    "russian_stopwords.extend(['…', '«', '»', '...', 'т.д.', 'т', 'д', 'это']) #Дополнение стоп-слов"
   ]
  },
  {
   "cell_type": "code",
   "execution_count": null,
   "id": "4bfcd090-a77e-41a6-96b1-a6e75b99225c",
   "metadata": {},
   "outputs": [],
   "source": [
    "prep_text = [remove_multiple_spaces(remove_numbers(remove_punctuation(text.lower()))) for text in tqdm(df['text'])]"
   ]
  },
  {
   "cell_type": "code",
   "execution_count": null,
   "id": "a6e0e814-2f5a-4ef1-8f05-a2fca5a853db",
   "metadata": {},
   "outputs": [],
   "source": []
  },
  {
   "cell_type": "code",
   "execution_count": null,
   "id": "cf111a12-43f5-45a5-aabe-c97077e1db06",
   "metadata": {},
   "outputs": [],
   "source": [
    "# для преобразования чисел в слова\n",
    "import decimal\n",
    "import re\n",
    "\n",
    "units = (\n",
    "    u'ноль',\n",
    "\n",
    "    (u'один', u'одна'),\n",
    "    (u'два', u'две'),\n",
    "\n",
    "    u'три', u'четыре', u'пять',\n",
    "    u'шесть', u'семь', u'восемь', u'девять'\n",
    ")\n",
    "\n",
    "teens = (\n",
    "    u'десять', u'одиннадцать',\n",
    "    u'двенадцать', u'тринадцать',\n",
    "    u'четырнадцать', u'пятнадцать',\n",
    "    u'шестнадцать', u'семнадцать',\n",
    "    u'восемнадцать', u'девятнадцать'\n",
    ")\n",
    "\n",
    "tens = (\n",
    "    teens,\n",
    "    u'двадцать', u'тридцать',\n",
    "    u'сорок', u'пятьдесят',\n",
    "    u'шестьдесят', u'семьдесят',\n",
    "    u'восемьдесят', u'девяносто'\n",
    ")\n",
    "\n",
    "hundreds = (\n",
    "    u'сто', u'двести',\n",
    "    u'триста', u'четыреста',\n",
    "    u'пятьсот', u'шестьсот',\n",
    "    u'семьсот', u'восемьсот',\n",
    "    u'девятьсот'\n",
    ")\n",
    "\n",
    "orders = (\n",
    "    ((u'тысяча', u'тысячи', u'тысяч'), 'f'),\n",
    "    ((u'миллион', u'миллиона', u'миллионов'), 'm'),\n",
    "    ((u'миллиард', u'миллиарда', u'миллиардов'), 'm')\n",
    ")\n",
    "\n",
    "minus = u'минус'\n",
    "\n",
    "\n",
    "def thousand(rest, sex):\n",
    "    \"\"\"Converts numbers from 19 to 999\"\"\"\n",
    "    prev = 0\n",
    "    plural = 2\n",
    "    name = []\n",
    "    use_teens = rest % 100 >= 10 and rest % 100 <= 19\n",
    "    if not use_teens:\n",
    "        data = ((units, 10), (tens, 100), (hundreds, 1000))\n",
    "    else:\n",
    "        data = ((teens, 10), (hundreds, 1000))\n",
    "    for names, x in data:\n",
    "        cur = int(((rest - prev) % x) * 10 / x)\n",
    "        prev = rest % x\n",
    "        if x == 10 and use_teens:\n",
    "            plural = 2\n",
    "            name.append(teens[cur])\n",
    "        elif cur == 0:\n",
    "            continue\n",
    "        elif x == 10:\n",
    "            name_ = names[cur]\n",
    "            if isinstance(name_, tuple):\n",
    "                name_ = name_[0 if sex == 'm' else 1]\n",
    "            name.append(name_)\n",
    "            if cur >= 2 and cur <= 4:\n",
    "                plural = 1\n",
    "            elif cur == 1:\n",
    "                plural = 0\n",
    "            else:\n",
    "                plural = 2\n",
    "        else:\n",
    "            name.append(names[cur-1])\n",
    "    return plural, name\n",
    "\n",
    "\n",
    "def num2text(num, main_units=((u'', u'', u''), 'm')):\n",
    "    \"\"\"\n",
    "    http://ru.wikipedia.org/wiki/Gettext#.D0.9C.D0.BD.D0.BE.D0.B6.D0.B5.D1.81.\\\n",
    "    D1.82.D0.B2.D0.B5.D0.BD.D0.BD.D1.8B.D0.B5_.D1.87.D0.B8.D1.81.D0.BB.D0.B0_2\n",
    "    \"\"\"\n",
    "    _orders = (main_units,) + orders\n",
    "    if num == 0:\n",
    "        return ' '.join((units[0], _orders[0][0][2])).strip() # ноль\n",
    "\n",
    "    rest = abs(num)\n",
    "    ord = 0\n",
    "    name = []\n",
    "    while rest > 0:\n",
    "        plural, nme = thousand(rest % 1000, _orders[ord][1])\n",
    "        if nme or ord == 0:\n",
    "            name.append(_orders[ord][0][plural])\n",
    "        name += nme\n",
    "        rest = int(rest / 1000)\n",
    "        ord += 1\n",
    "    if num < 0:\n",
    "        name.append(minus)\n",
    "    name.reverse()\n",
    "    return ' '.join(name).strip()\n",
    "\n",
    "\n",
    "def decimal2text(value, places=2,\n",
    "                 int_units=(('', '', ''), 'm'),\n",
    "                 exp_units=(('', '', ''), 'm')):\n",
    "    value = decimal.Decimal(value)\n",
    "    q = decimal.Decimal(10) ** -places\n",
    "\n",
    "    integral, exp = str(value.quantize(q)).split('.')\n",
    "    return u'{} {}'.format(\n",
    "        num2text(int(integral), int_units),\n",
    "        num2text(int(exp), exp_units))\n",
    "\n",
    "\n",
    "\n",
    "def getnumbers(s):\n",
    "    nums = re.findall(r'\\d*\\.\\d+|\\d+', s)\n",
    "    nums = [float(i) for i in nums]\n",
    "    for x in nums:\n",
    "        s=s.replace(str(x), decimal2text(float(x)))\n",
    "    nums=[]\n",
    "    nums = re.findall(r'\\d+', s)\n",
    "    nums = [int(i) for i in nums]\n",
    "    for x in nums:\n",
    "        s=s.replace(str(x), num2text(int(x)))\n",
    "    return s"
   ]
  },
  {
   "cell_type": "code",
   "execution_count": null,
   "id": "a329beb6-f657-4adb-b22e-02161b228e3b",
   "metadata": {},
   "outputs": [],
   "source": []
  },
  {
   "cell_type": "code",
   "execution_count": null,
   "id": "c03fb964-a736-488f-91c6-e8d78304f752",
   "metadata": {},
   "outputs": [],
   "source": [
    "# для удаления пунктуации\n",
    "def remove_punct(text):\n",
    "    import string\n",
    "    # удаляем пунктуацию и  \n",
    "    # склеиваем символы, приводя слова к нижнему регистру\n",
    "    return ''.join([c for c in text if c not in string.punctuation or c == '-']).lower()"
   ]
  },
  {
   "cell_type": "code",
   "execution_count": null,
   "id": "3186fd49-d9db-47be-bc63-b35cbd64bf31",
   "metadata": {},
   "outputs": [],
   "source": []
  },
  {
   "cell_type": "code",
   "execution_count": null,
   "id": "e25dc858-8fe1-4ab1-9ae3-ea300d458c45",
   "metadata": {},
   "outputs": [],
   "source": [
    "# для лематизации\n",
    "@lru_cache(maxsize=None)"
   ]
  },
  {
   "cell_type": "code",
   "execution_count": null,
   "id": "e97668c1-a9be-4dd7-b021-b282d97463b2",
   "metadata": {},
   "outputs": [],
   "source": [
    "import pymorphy2\n",
    "from nltk.corpus import stopwords\n",
    "from functools import lru_cache\n",
    "\n",
    "# кешируем слова для быстрого доступа к ним в других случаях\n",
    "@lru_cache(maxsize=None) \n",
    "def norm_form(word):\n",
    "    return morph.parse(word)[0].normal_form\n",
    "\n",
    "new_nomenclature = list()\n",
    "morph = pymorphy2.MorphAnalyzer()\n",
    "for text in tqdm(data_all['Номенклатура']):\n",
    "    # приведём все слова к нормальной форме и удалим малозначимые слова\n",
    "    new_nomenclature.append(' '.join([norm_form(word) for word in text.split(' ') \\\n",
    "                 if word not in stopwords.words('russian') or word == 'то']).strip())\n",
    "data_all['НоменклатураНовая'] = new_nomenclature"
   ]
  },
  {
   "cell_type": "code",
   "execution_count": null,
   "id": "8b9a6862-f4bb-4b78-927d-5c206d452a4d",
   "metadata": {},
   "outputs": [],
   "source": []
  },
  {
   "cell_type": "code",
   "execution_count": null,
   "id": "e9fefe3b-4d15-4f69-9263-3074c4587707",
   "metadata": {},
   "outputs": [],
   "source": [
    "# для html-тегов\n",
    "def remove_tags(text):\n",
    "    # удаление тегов разметки\n",
    "    text = re.sub(r\"<[^>]+>\", \"\", str(text), flags=re.S)\n",
    "    # удаление последовательностей \\r и \\n\n",
    "    text = re.sub(r\"\\r|\\n\", \" \", str(text), flags=re.S)\n",
    "    # удаление последовательностей \\b\n",
    "    text = re.sub(r\"\\b\", \"\", str(text), flags=re.S)\n",
    "    text = re.sub(r\" +\", \" \", str(text), flags=re.S)\n",
    "    text = re.sub(r\"^\\d+$\", \"\", str(text), flags=re.S)\n",
    "    return text"
   ]
  }
 ],
 "metadata": {
  "kernelspec": {
   "display_name": "Python 3 (ipykernel)",
   "language": "python",
   "name": "python3"
  },
  "language_info": {
   "codemirror_mode": {
    "name": "ipython",
    "version": 3
   },
   "file_extension": ".py",
   "mimetype": "text/x-python",
   "name": "python",
   "nbconvert_exporter": "python",
   "pygments_lexer": "ipython3",
   "version": "3.11.5"
  }
 },
 "nbformat": 4,
 "nbformat_minor": 5
}
